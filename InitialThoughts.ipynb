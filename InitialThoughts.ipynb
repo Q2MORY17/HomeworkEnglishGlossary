{
 "cells": [
  {
   "cell_type": "code",
   "execution_count": 3,
   "metadata": {},
   "outputs": [
    {
     "name": "stdout",
     "output_type": "stream",
     "text": [
      "             English       Svenska\n",
      "0            Teacher        Lärare\n",
      "1              Clock    Väggklocka\n",
      "2           Scissors           Sax\n",
      "3             Pencil  Blyertspenna\n",
      "4             Rubber     Suddgummi\n",
      "5            Crayons    Färgkritor\n",
      "6              Chair          Stol\n",
      "7              Ruler        Linjal\n",
      "8           Backpack      Ryggsäck\n",
      "9   Pencil sharpener    Penvässare\n",
      "10           Chapter       Kapitel\n",
      "11             Beach        Strand\n",
      "12               Boy         Pojke\n",
      "13              Girl        Flicka\n",
      "14              Live            Bo\n",
      "15             House           Hus\n",
      "16           Balcony       Balkong\n",
      "17              With           Med\n",
      "18               But           Men\n",
      "19              Look         Titta\n"
     ]
    }
   ],
   "source": [
    "import pandas as pd\n",
    "df = pd.read_csv(r'C:/Users/kent1/Documents/ThéodoresHomeworkEnglish/glossary.csv')\n",
    "print(df)"
   ]
  },
  {
   "cell_type": "code",
   "execution_count": 4,
   "metadata": {},
   "outputs": [
    {
     "data": {
      "text/plain": [
       "20"
      ]
     },
     "execution_count": 4,
     "metadata": {},
     "output_type": "execute_result"
    }
   ],
   "source": [
    "df.shape[0]"
   ]
  },
  {
   "cell_type": "markdown",
   "metadata": {},
   "source": [
    "Then we can import the Random library and call any word from column 1 between 0 and len(df) then have Théodore type in the correct word and then verify the word."
   ]
  },
  {
   "cell_type": "code",
   "execution_count": 22,
   "metadata": {},
   "outputs": [
    {
     "name": "stdout",
     "output_type": "stream",
     "text": [
      " Sax\n",
      "Well done! You spelt Scissors correctly. Keep it up!\n"
     ]
    }
   ],
   "source": [
    "import random\n",
    "lottery = random.randint(0, 9)\n",
    "print(df.iat[lottery, 1])\n",
    "userInput = str(input(\"Type the english translation of this word: \"))\n",
    "if userInput.capitalize() == df.iat[lottery, 0]:\n",
    "    print(f\"Well done! You spelt {df.iat[lottery, 0]} correctly. Keep it up!\")\n",
    "else:\n",
    "    print(f\"The spelling I am looking for is {df.iat[lottery, 0]}, you keyed in {userInput}\")"
   ]
  },
  {
   "cell_type": "code",
   "execution_count": 24,
   "metadata": {},
   "outputs": [
    {
     "name": "stdout",
     "output_type": "stream",
     "text": [
      " Lärare\n",
      "The spelling I am looking for is Teacher, you keyed in stvee\n",
      " Väggklocka\n",
      "The spelling I am looking for is Clock, you keyed in teacher\n",
      " Suddgummi\n",
      "Well done! You spelt Rubber correctly. Keep it up!\n",
      " Stol\n",
      "Well done! You spelt Chair correctly. Keep it up!\n",
      " Färgkritor\n",
      "Well done! You spelt Crayons correctly. Keep it up!\n",
      " Sax\n",
      "Well done! You spelt Scissors correctly. Keep it up!\n",
      " Väggklocka\n",
      "The spelling I am looking for is Clock, you keyed in klock\n",
      " Stol\n",
      "The spelling I am looking for is Chair, you keyed in steve\n",
      " Linjal\n",
      "Well done! You spelt Ruler correctly. Keep it up!\n",
      " Ryggsäck\n",
      "Well done! You spelt Backpack correctly. Keep it up!\n"
     ]
    }
   ],
   "source": [
    "resultTacker = 0\n",
    "for i in range(10):\n",
    "    wordMemory = []\n",
    "    lottery = random.randint(0, 9)\n",
    "    for i in wordMemory:\n",
    "        if lottery == wordMemory[i]:\n",
    "            lottery = random.randint(0, 9)\n",
    "    print(df.iat[lottery, 1])\n",
    "    userInput = str(input(\"Type the english translation of this word: \"))\n",
    "    if userInput.capitalize() == df.iat[lottery, 0]:\n",
    "        print(f\"Well done! You spelt {df.iat[lottery, 0]} correctly. Keep it up!\")\n",
    "        result += 1\n",
    "    else:\n",
    "        print(f\"The spelling I am looking for is {df.iat[lottery, 0]}, you keyed in {userInput}\")\n",
    "print(f\"Hey, you scored {resultTracker}\")"
   ]
  }
 ],
 "metadata": {
  "kernelspec": {
   "display_name": "Python 3",
   "language": "python",
   "name": "python3"
  },
  "language_info": {
   "codemirror_mode": {
    "name": "ipython",
    "version": 3
   },
   "file_extension": ".py",
   "mimetype": "text/x-python",
   "name": "python",
   "nbconvert_exporter": "python",
   "pygments_lexer": "ipython3",
   "version": "3.8.3"
  },
  "orig_nbformat": 4
 },
 "nbformat": 4,
 "nbformat_minor": 2
}
